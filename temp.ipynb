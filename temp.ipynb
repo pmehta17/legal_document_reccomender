{
 "cells": [
  {
   "cell_type": "code",
   "execution_count": 1,
   "metadata": {},
   "outputs": [],
   "source": [
    "str = \"\"\"\"\n",
    "In a quaint village nestled between emerald hills and a shimmering lake, there lived a kind-hearted girl named Elara. Elara had a special gift: she could communicate with animals. Every morning, birds would sing her a symphony, and rabbits would dance around her feet.\n",
    "\n",
    "One day, a sorrowful cry echoed through the forest. Following the sound, Elara discovered a majestic unicorn trapped in a thorny bramble. Its silver mane was tangled, and its eyes were filled with pain. Elara gently approached and spoke soothing words. With the help of a clever fox and a determined squirrel, she carefully untangled the unicorn and healed its wounds with her herbal remedies.\n",
    "\n",
    "Grateful, the unicorn revealed itself to be the guardian of the Enchanted Grove, a magical realm that sustained the village's prosperity. As a token of gratitude, the unicorn bestowed upon Elara a radiant amulet, promising protection and endless joy.\n",
    "\n",
    "From that day on, the village flourished like never before. Flowers bloomed in vibrant colors, crops grew in abundance, and peace reigned. Elara became a beloved figure, known for her bravery and kindness. And every night, under the twinkling stars, she would visit the Enchanted Grove, where magic and wonder awaited her.\n",
    "\"\"\""
   ]
  },
  {
   "cell_type": "code",
   "execution_count": 2,
   "metadata": {},
   "outputs": [
    {
     "name": "stderr",
     "output_type": "stream",
     "text": [
      "c:\\Projects\\legal_document_reccomender\\.venv\\Lib\\site-packages\\tqdm\\auto.py:21: TqdmWarning: IProgress not found. Please update jupyter and ipywidgets. See https://ipywidgets.readthedocs.io/en/stable/user_install.html\n",
      "  from .autonotebook import tqdm as notebook_tqdm\n"
     ]
    }
   ],
   "source": [
    "# Load model directly\n",
    "from transformers import AutoTokenizer, AutoModelForPreTraining\n",
    "import torch \n",
    "\n",
    "\n",
    "tokenizer = AutoTokenizer.from_pretrained(\"nlpaueb/legal-bert-base-uncased\")\n",
    "model = AutoModelForPreTraining.from_pretrained(\"nlpaueb/legal-bert-base-uncased\")\n"
   ]
  },
  {
   "cell_type": "code",
   "execution_count": 3,
   "metadata": {},
   "outputs": [
    {
     "name": "stdout",
     "output_type": "stream",
     "text": [
      "{'input_ids': [101, 105, 213, 145, 23571, 184, 190, 4258, 11640, 6292, 317, 17713, 10384, 212, 145, 28982, 20389, 2759, 5095, 115, 330, 6708, 145, 1331, 116, 6599, 252, 5751, 2615, 2356, 4694, 117, 2356, 4694, 263, 145, 629, 6612, 119, 741, 481, 3493, 225, 919, 189, 117, 1425, 7346, 115, 5285, 297, 163, 235, 502, 145, 10181, 14634, 115, 212, 12761, 189, 297, 18853, 2854, 502, 2975, 117, 289, 414, 115, 145, 340, 188, 8137, 7286, 2569, 195, 12067, 252, 555, 207, 3259, 117, 298, 207, 2763, 115, 2356, 4694, 4643, 145, 18573, 1161, 5397, 12903, 28591, 174, 213, 145, 17863, 195, 26225, 4333, 117, 239, 5501, 1910, 175, 246, 14905, 6292, 115, 212, 239, 9695, 292, 5059, 252, 225, 4382, 117, 2356, 4694, 3048, 190, 301, 9274, 212, 10163, 340, 14169, 2759, 1695, 117, 225, 207, 2907, 210, 145, 10215, 188, 7826, 212, 145, 657, 18882, 188, 6436, 115, 741, 5334, 668, 18588, 6292, 207, 5397, 12903, 212, 17275, 252, 239, 17891, 225, 502, 18683, 182, 1126, 117, 23836, 7286, 115, 207, 5397, 12903, 5473, 1092, 211, 219, 207, 5902, 210, 207, 769, 7037, 11021, 174, 13161, 115, 145, 23304, 757, 1071, 183, 216, 3171, 207, 4258, 110, 163, 7882, 658, 117, 221, 145, 12139, 210, 20050, 12858, 115, 207, 5397, 12903, 1432, 14328, 174, 306, 2356, 4694, 145, 21579, 190, 1824, 18609, 115, 16485, 235, 644, 212, 24464, 14227, 117, 238, 216, 414, 222, 115, 207, 4258, 6155, 4653, 252, 1486, 2081, 373, 117, 5747, 189, 7963, 252, 213, 953, 6611, 184, 190, 5725, 189, 115, 3713, 189, 20146, 213, 22481, 1303, 115, 212, 5796, 665, 20334, 174, 117, 2356, 4694, 2785, 145, 219, 10004, 252, 3283, 115, 1330, 217, 502, 3572, 12260, 1181, 212, 1331, 1268, 117, 212, 1425, 4909, 115, 242, 207, 11704, 181, 3696, 4718, 189, 115, 741, 297, 4339, 207, 769, 7037, 11021, 174, 13161, 115, 343, 23304, 212, 16708, 8773, 252, 502, 117, 102], 'token_type_ids': [0, 0, 0, 0, 0, 0, 0, 0, 0, 0, 0, 0, 0, 0, 0, 0, 0, 0, 0, 0, 0, 0, 0, 0, 0, 0, 0, 0, 0, 0, 0, 0, 0, 0, 0, 0, 0, 0, 0, 0, 0, 0, 0, 0, 0, 0, 0, 0, 0, 0, 0, 0, 0, 0, 0, 0, 0, 0, 0, 0, 0, 0, 0, 0, 0, 0, 0, 0, 0, 0, 0, 0, 0, 0, 0, 0, 0, 0, 0, 0, 0, 0, 0, 0, 0, 0, 0, 0, 0, 0, 0, 0, 0, 0, 0, 0, 0, 0, 0, 0, 0, 0, 0, 0, 0, 0, 0, 0, 0, 0, 0, 0, 0, 0, 0, 0, 0, 0, 0, 0, 0, 0, 0, 0, 0, 0, 0, 0, 0, 0, 0, 0, 0, 0, 0, 0, 0, 0, 0, 0, 0, 0, 0, 0, 0, 0, 0, 0, 0, 0, 0, 0, 0, 0, 0, 0, 0, 0, 0, 0, 0, 0, 0, 0, 0, 0, 0, 0, 0, 0, 0, 0, 0, 0, 0, 0, 0, 0, 0, 0, 0, 0, 0, 0, 0, 0, 0, 0, 0, 0, 0, 0, 0, 0, 0, 0, 0, 0, 0, 0, 0, 0, 0, 0, 0, 0, 0, 0, 0, 0, 0, 0, 0, 0, 0, 0, 0, 0, 0, 0, 0, 0, 0, 0, 0, 0, 0, 0, 0, 0, 0, 0, 0, 0, 0, 0, 0, 0, 0, 0, 0, 0, 0, 0, 0, 0, 0, 0, 0, 0, 0, 0, 0, 0, 0, 0, 0, 0, 0, 0, 0, 0, 0, 0, 0, 0, 0, 0, 0, 0, 0, 0, 0, 0, 0, 0, 0, 0, 0, 0, 0, 0, 0, 0, 0, 0, 0, 0, 0, 0, 0, 0, 0, 0, 0, 0, 0, 0, 0, 0, 0, 0, 0, 0, 0, 0, 0, 0, 0, 0, 0, 0, 0, 0, 0, 0, 0, 0, 0, 0], 'attention_mask': [1, 1, 1, 1, 1, 1, 1, 1, 1, 1, 1, 1, 1, 1, 1, 1, 1, 1, 1, 1, 1, 1, 1, 1, 1, 1, 1, 1, 1, 1, 1, 1, 1, 1, 1, 1, 1, 1, 1, 1, 1, 1, 1, 1, 1, 1, 1, 1, 1, 1, 1, 1, 1, 1, 1, 1, 1, 1, 1, 1, 1, 1, 1, 1, 1, 1, 1, 1, 1, 1, 1, 1, 1, 1, 1, 1, 1, 1, 1, 1, 1, 1, 1, 1, 1, 1, 1, 1, 1, 1, 1, 1, 1, 1, 1, 1, 1, 1, 1, 1, 1, 1, 1, 1, 1, 1, 1, 1, 1, 1, 1, 1, 1, 1, 1, 1, 1, 1, 1, 1, 1, 1, 1, 1, 1, 1, 1, 1, 1, 1, 1, 1, 1, 1, 1, 1, 1, 1, 1, 1, 1, 1, 1, 1, 1, 1, 1, 1, 1, 1, 1, 1, 1, 1, 1, 1, 1, 1, 1, 1, 1, 1, 1, 1, 1, 1, 1, 1, 1, 1, 1, 1, 1, 1, 1, 1, 1, 1, 1, 1, 1, 1, 1, 1, 1, 1, 1, 1, 1, 1, 1, 1, 1, 1, 1, 1, 1, 1, 1, 1, 1, 1, 1, 1, 1, 1, 1, 1, 1, 1, 1, 1, 1, 1, 1, 1, 1, 1, 1, 1, 1, 1, 1, 1, 1, 1, 1, 1, 1, 1, 1, 1, 1, 1, 1, 1, 1, 1, 1, 1, 1, 1, 1, 1, 1, 1, 1, 1, 1, 1, 1, 1, 1, 1, 1, 1, 1, 1, 1, 1, 1, 1, 1, 1, 1, 1, 1, 1, 1, 1, 1, 1, 1, 1, 1, 1, 1, 1, 1, 1, 1, 1, 1, 1, 1, 1, 1, 1, 1, 1, 1, 1, 1, 1, 1, 1, 1, 1, 1, 1, 1, 1, 1, 1, 1, 1, 1, 1, 1, 1, 1, 1, 1, 1, 1, 1, 1, 1, 1, 1]}\n"
     ]
    }
   ],
   "source": [
    "inputs = tokenizer(str)\n",
    "print(inputs)\n",
    "\n",
    "\n",
    "\n",
    "# def embed(str):\n",
    "#     inputs = tokenizer(str, return_tensors='pt', max_length=512, truncation=True, padding=True)\n",
    "#     with torch    .no_grad():\n",
    "#         outputs = model(**inputs)\n",
    "#     last_hidden_states = outputs.last_hidden_state\n",
    "#     return last_hidden_states\n",
    "\n",
    "#     vector = last_hidden_state[:, 0, :].squeeze().numpy()\n",
    "#     # return vector.tolist() ## return as list (len 768)\n",
    "#     return vector\n",
    "\n",
    "# print(embed(str))\n",
    "\n"
   ]
  },
  {
   "cell_type": "code",
   "execution_count": 8,
   "metadata": {},
   "outputs": [
    {
     "name": "stdout",
     "output_type": "stream",
     "text": [
      "320\n"
     ]
    }
   ],
   "source": [
    "print(len(inputs.input_ids))"
   ]
  }
 ],
 "metadata": {
  "kernelspec": {
   "display_name": ".venv",
   "language": "python",
   "name": "python3"
  },
  "language_info": {
   "codemirror_mode": {
    "name": "ipython",
    "version": 3
   },
   "file_extension": ".py",
   "mimetype": "text/x-python",
   "name": "python",
   "nbconvert_exporter": "python",
   "pygments_lexer": "ipython3",
   "version": "3.12.4"
  }
 },
 "nbformat": 4,
 "nbformat_minor": 2
}
