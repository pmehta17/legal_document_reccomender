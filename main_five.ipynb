{
 "cells": [
  {
   "cell_type": "code",
   "execution_count": 1,
   "metadata": {},
   "outputs": [
    {
     "name": "stdout",
     "output_type": "stream",
     "text": [
      "623494db-40e1-44ee-9890-26f24e1dd55b\n"
     ]
    }
   ],
   "source": [
    "# Load API key\n",
    "\n",
    "from dotenv import load_dotenv\n",
    "import os\n",
    "\n",
    "## Error Handling for API key retreival\n",
    "try: \n",
    "            \n",
    "    load_dotenv()\n",
    "\n",
    "    PC_KEY = os.getenv('PINECONE_API_KEY')\n",
    "    print(PC_KEY)\n",
    "\n",
    "    if not PC_KEY:\n",
    "        raise ValueError(\"PINECONE_API_KEY not found in .env file\")\n",
    "\n",
    "\n",
    "except Exception as e:\n",
    "    print(f\"Error: {e}\")\n",
    "\n"
   ]
  },
  {
   "cell_type": "code",
   "execution_count": 2,
   "metadata": {},
   "outputs": [
    {
     "name": "stderr",
     "output_type": "stream",
     "text": [
      "c:\\Projects\\legal_document_reccomender\\.venv\\Lib\\site-packages\\pinecone\\data\\index.py:1: TqdmWarning: IProgress not found. Please update jupyter and ipywidgets. See https://ipywidgets.readthedocs.io/en/stable/user_install.html\n",
      "  from tqdm.autonotebook import tqdm\n"
     ]
    }
   ],
   "source": [
    "from pinecone import Pinecone, ServerlessSpec\n",
    "\n",
    "pc = Pinecone(api_key=PC_KEY)"
   ]
  },
  {
   "cell_type": "code",
   "execution_count": 3,
   "metadata": {},
   "outputs": [
    {
     "name": "stdout",
     "output_type": "stream",
     "text": [
      "Indexes: ['idx-one', 'idx-two']\n",
      "Collections: []\n"
     ]
    }
   ],
   "source": [
    "## View current indexes in Pinecone \n",
    " \n",
    "print(f\"Indexes: {pc.list_indexes().names()}\")\n",
    "print(f\"Collections: {pc.list_collections().names()}\")"
   ]
  },
  {
   "cell_type": "code",
   "execution_count": 4,
   "metadata": {},
   "outputs": [
    {
     "name": "stdout",
     "output_type": "stream",
     "text": [
      "Error: Could not create index. Index with name \"idx-two\" already exists. \n"
     ]
    }
   ],
   "source": [
    "index_name = \"idx-two\"\n",
    "dim = 768\n",
    "\n",
    "## Embedding model: legal-bert-base-uncased (768 dimensions)\n",
    "# https://huggingface.co/nlpaueb/legal-bert-base-uncased\n",
    "\n",
    "if index_name not in pc.list_indexes().names():\n",
    "    pc.create_index(\n",
    "        name=index_name,\n",
    "        dimension=dim,\n",
    "        metric=\"cosine\",\n",
    "        spec=ServerlessSpec(\n",
    "            cloud='aws', \n",
    "            region='us-east-1'\n",
    "        ) \n",
    "    ) \n",
    "else: \n",
    "    print(f'Error: Could not create index. Index with name \"{index_name}\" already exists. ')"
   ]
  },
  {
   "cell_type": "code",
   "execution_count": 5,
   "metadata": {},
   "outputs": [],
   "source": [
    "# Load model directly\n",
    "from transformers import AutoTokenizer, AutoModelForPreTraining, AutoModel\n",
    "import torch \n",
    "\n",
    "\n",
    "tokenizer = AutoTokenizer.from_pretrained(\"nlpaueb/legal-bert-base-uncased\")\n",
    "# model = AutoModelForPreTraining.from_pretrained(\"nlpaueb/legal-bert-base-uncased\")\n",
    "model = AutoModel.from_pretrained(\"nlpaueb/legal-bert-base-uncased\")\n"
   ]
  },
  {
   "cell_type": "code",
   "execution_count": 6,
   "metadata": {},
   "outputs": [
    {
     "data": {
      "text/plain": [
       "BertModel(\n",
       "  (embeddings): BertEmbeddings(\n",
       "    (word_embeddings): Embedding(30522, 768, padding_idx=0)\n",
       "    (position_embeddings): Embedding(512, 768)\n",
       "    (token_type_embeddings): Embedding(2, 768)\n",
       "    (LayerNorm): LayerNorm((768,), eps=1e-12, elementwise_affine=True)\n",
       "    (dropout): Dropout(p=0.1, inplace=False)\n",
       "  )\n",
       "  (encoder): BertEncoder(\n",
       "    (layer): ModuleList(\n",
       "      (0-11): 12 x BertLayer(\n",
       "        (attention): BertAttention(\n",
       "          (self): BertSdpaSelfAttention(\n",
       "            (query): Linear(in_features=768, out_features=768, bias=True)\n",
       "            (key): Linear(in_features=768, out_features=768, bias=True)\n",
       "            (value): Linear(in_features=768, out_features=768, bias=True)\n",
       "            (dropout): Dropout(p=0.1, inplace=False)\n",
       "          )\n",
       "          (output): BertSelfOutput(\n",
       "            (dense): Linear(in_features=768, out_features=768, bias=True)\n",
       "            (LayerNorm): LayerNorm((768,), eps=1e-12, elementwise_affine=True)\n",
       "            (dropout): Dropout(p=0.1, inplace=False)\n",
       "          )\n",
       "        )\n",
       "        (intermediate): BertIntermediate(\n",
       "          (dense): Linear(in_features=768, out_features=3072, bias=True)\n",
       "          (intermediate_act_fn): GELUActivation()\n",
       "        )\n",
       "        (output): BertOutput(\n",
       "          (dense): Linear(in_features=3072, out_features=768, bias=True)\n",
       "          (LayerNorm): LayerNorm((768,), eps=1e-12, elementwise_affine=True)\n",
       "          (dropout): Dropout(p=0.1, inplace=False)\n",
       "        )\n",
       "      )\n",
       "    )\n",
       "  )\n",
       "  (pooler): BertPooler(\n",
       "    (dense): Linear(in_features=768, out_features=768, bias=True)\n",
       "    (activation): Tanh()\n",
       "  )\n",
       ")"
      ]
     },
     "execution_count": 6,
     "metadata": {},
     "output_type": "execute_result"
    }
   ],
   "source": [
    "model"
   ]
  },
  {
   "cell_type": "code",
   "execution_count": 7,
   "metadata": {},
   "outputs": [],
   "source": [
    "def pooler_embeding(text):\n",
    "    inputs = tokenizer(text, return_tensors=\"pt\")\n",
    "    with torch.no_grad():\n",
    "        outputs = model(**inputs)\n",
    "    return outputs.pooler_output.detach().cpu().numpy().tolist()[0] ## CLS is stored at the first position of a BERT Tensor\n"
   ]
  },
  {
   "cell_type": "code",
   "execution_count": 8,
   "metadata": {},
   "outputs": [],
   "source": [
    "def get_average_last_hidden_state(text):\n",
    "    inputs = tokenizer(text, return_tensors=\"pt\")\n",
    "    with torch.no_grad(): \n",
    "        outputs = model(**inputs)\n",
    "        last_hidden_state = outputs.last_hidden_state\n",
    "        avg_hidden_state = torch.mean(last_hidden_state, dim=1)\n",
    "    return avg_hidden_state.detach().cpu().numpy().tolist()[0]\n"
   ]
  },
  {
   "cell_type": "code",
   "execution_count": 9,
   "metadata": {},
   "outputs": [],
   "source": [
    "from utilities import textFileToString\n",
    "\n",
    "\n",
    "def push(filepath, vector_id, metadata, dim = 768, embedding_func = None):\n",
    "    \n",
    "    file_text = textFileToString(filepath)\n",
    "    print(file_text[:200]) ## Printing first 200 chars to check file\n",
    "    vector = embedding_func(file_text) ## Converting text to a vector\n",
    "\n",
    "    if len(vector) != dim:\n",
    "        raise Exception(f\"Vector dimension invalid.\")\n",
    "    \n",
    "\n",
    "    upsert_data = [(vector_id, vector, metadata)]\n",
    "\n",
    "    # Upsert the data to the Pinecone index\n",
    "\n",
    "    index = pc.Index(index_name)\n",
    "    index.upsert(upsert_data)\n",
    "\n"
   ]
  },
  {
   "cell_type": "code",
   "execution_count": 10,
   "metadata": {},
   "outputs": [
    {
     "data": {
      "text/plain": [
       "'idx-two'"
      ]
     },
     "execution_count": 10,
     "metadata": {},
     "output_type": "execute_result"
    }
   ],
   "source": [
    "index_name"
   ]
  },
  {
   "cell_type": "code",
   "execution_count": 25,
   "metadata": {},
   "outputs": [
    {
     "name": "stdout",
     "output_type": "stream",
     "text": [
      "SUMMARY: The Department of Justice\n",
      "(‘‘DOJ’’) proposes to transfer marijuana\n",
      "from schedule I of the Controlled\n",
      "Substances Act (‘‘CSA’’) to schedule III\n",
      "of the CSA, consistent with the view of\n",
      "the Depar\n"
     ]
    }
   ],
   "source": [
    "## Vector 1\n",
    "# File Description: Schedules of Controlled Substances: Rescheduling of Marijuana\n",
    "\n",
    "\n",
    "filepath = \"summaries\\\\2024-11137.txt\"\n",
    "vector_id = \"2024-11137\"\n",
    "\n",
    "metadata = {\n",
    "\n",
    "    'publication_date': '2024-05-21',\n",
    "    'document_type': 'Proposed Rule', \n",
    "    'document_citation': \"89 FR 44597\",\n",
    "    'page_start': 44597,\n",
    "    'page_end':44622,\n",
    "    'cfr': \"21 CFR 1308\", \n",
    "    'document_number': \"2024-11137\" , \n",
    "    'agency': [\"DEPARTMENT OF JUSTICE\", \"DRUG ENFORCEMENT AGENCY\"]\n",
    "\n",
    "}\n",
    "\n",
    "push(filepath, vector_id, metadata, embedding_func=pooler_embeding)\n",
    "\n"
   ]
  },
  {
   "cell_type": "code",
   "execution_count": 24,
   "metadata": {},
   "outputs": [
    {
     "name": "stdout",
     "output_type": "stream",
     "text": [
      "SUMMARY: This notice is a request for\n",
      "information in the form of written\n",
      "comments that include information,\n",
      "research, and suggestions regarding\n",
      "operational aspects of the possible\n",
      "inclusion of for-pro\n"
     ]
    }
   ],
   "source": [
    "# Document 2\n",
    "# Request for Information on Identifying and Tracking Data Related to Early Childhood Education Providers\n",
    "\n",
    "filepath = \"summaries\\\\2024-13446.txt\"\n",
    "\n",
    "vector_id = \"2024-13446\"\n",
    "\n",
    "metadata = {\n",
    "\n",
    "    'publication_date': '2024-06-20',\n",
    "    'document_type': 'Notice', \n",
    "    'document_citation': \"89 FR 51878\",\n",
    "    'page_start': 51878,\n",
    "    'page_end':51878,\n",
    "    'document_number': \"2024-13446\", \n",
    "    'agency': \"DEPARTMENT OF EDUCATION\"\n",
    "\n",
    "}\n",
    "\n",
    "push(filepath, vector_id, metadata, embedding_func=pooler_embeding)\n",
    "\n"
   ]
  },
  {
   "cell_type": "code",
   "execution_count": 21,
   "metadata": {},
   "outputs": [
    {
     "name": "stdout",
     "output_type": "stream",
     "text": [
      "SUMMARY: The U.S. Department of\n",
      "Agriculture (USDA) is seeking public\n",
      "input to support the preparation of\n",
      "proposed regulations intended to\n",
      "implement the Greenhouse Gas\n",
      "Technical Assistance Provider and\n"
     ]
    }
   ],
   "source": [
    "filepath = \"summaries\\\\2024-11424.txt\"\n",
    "# Greenhouse Gas Technical Assistance Provider and Third-Party Verifier Program\n",
    "\n",
    "vector_id = \"2024-11424\"\n",
    "\n",
    "metadata = {\n",
    "\n",
    "    'publication_date': '2024-05-29',\n",
    "    'document_type': 'Proposed Rule', \n",
    "    'document_citation': \"89 FR 46335\",\n",
    "    'page_start': 46335,\n",
    "    'page_end':46336,\n",
    "    'document_number': \"2024-11424\", \n",
    "    'agency': \"DEPARTMENT OF AGRICULTURE\"\n",
    "\n",
    "}\n",
    "\n",
    "push(filepath, vector_id, metadata, embedding_func=pooler_embeding)\n"
   ]
  },
  {
   "cell_type": "code",
   "execution_count": 16,
   "metadata": {},
   "outputs": [
    {
     "name": "stdout",
     "output_type": "stream",
     "text": [
      "SUMMARY: This notice is a request for\n",
      "information in the form of written\n",
      "comments that include information,\n",
      "research, and suggestions regarding\n",
      "operational aspects of the possible\n",
      "inclusion of for-pro\n"
     ]
    }
   ],
   "source": [
    "filepath = \"summaries\\\\2024-13446.txt\"\n",
    "# Request for Information on Identifying and Tracking Data Related to Early Childhood Education Providers\n",
    "\n",
    "vector_id = \"2024-13446\"\n",
    "\n",
    "metadata = {\n",
    "\n",
    "    'publication_date': '2024-06-20',\n",
    "    'document_type': 'Notice', \n",
    "    'document_citation': \"89 FR 51878\",\n",
    "    'page_start': 51878,\n",
    "    'page_end':51878,\n",
    "    'document_number': \"2024-13446\", \n",
    "    'agency': \"DEPARTMENT OF EDUCATION\"\n",
    "\n",
    "}\n",
    "\n",
    "push(filepath, vector_id, metadata, embedding_func=pooler_embeding)\n"
   ]
  },
  {
   "cell_type": "code",
   "execution_count": 17,
   "metadata": {},
   "outputs": [
    {
     "name": "stdout",
     "output_type": "stream",
     "text": [
      "SUMMARY: The USPTO proposes to\n",
      "amend the rules of practice to add a new\n",
      "requirement for an acceptable terminal\n",
      "disclaimer that is filed to obviate (that\n",
      "is, overcome) nonstatutory double\n",
      "patenting. Th\n"
     ]
    }
   ],
   "source": [
    "filepath = \"summaries\\\\2024-10166.txt\"\n",
    "\n",
    "# Proposed Rule from PTO \n",
    "# Terminal Disclaimer Practice To Obviate Nonstatutory Double Patenting\n",
    "\n",
    "vector_id = \"2024-10166\"\n",
    "\n",
    "metadata = {\n",
    "\n",
    "    'publication_date': '2024-05-10',\n",
    "    'document_type': 'Proposed Rule', \n",
    "    'document_citation': \"89 FR 40439\",\n",
    "    'page_start': 40439,\n",
    "    'page_end':40449,\n",
    "    'document_number': \"2024-10166\", \n",
    "    'agency': [\"DEPARTMENT OF COMMERCE\", \"PATENT TRADEMARK OFFICE\"], \n",
    "\n",
    "}\n",
    "\n",
    "push(filepath, vector_id, metadata, embedding_func=pooler_embeding)\n",
    "\n",
    "\n"
   ]
  },
  {
   "cell_type": "code",
   "execution_count": 19,
   "metadata": {},
   "outputs": [
    {
     "name": "stdout",
     "output_type": "stream",
     "text": [
      "SUMMARY: The Department of Commerce\n",
      "(Commerce) seeks public comment to\n",
      "inform its work on assessing and\n",
      "analyzing risk in global supply chains.\n",
      "This includes input into a\n",
      "determination of an initial l\n"
     ]
    }
   ],
   "source": [
    "filepath = \"summaries\\\\2024-12240.txt\"\n",
    "\n",
    "# Request for Comments on Commerce Supply Chain Risk Assessment and IPEF Supply Chains\n",
    "\n",
    "vector_id = \"2024-12240\"\n",
    "\n",
    "metadata = {\n",
    "\n",
    "    'publication_date': '2024-06-03',\n",
    "    'document_type': 'Notice', \n",
    "    'document_citation': \"89 FR 47536\",\n",
    "    'page_start': 47536,\n",
    "    'page_end':47539,\n",
    "    'document_number': \"2024-12240\", \n",
    "    'agency': [\"DEPARTMENT OF COMMERCE\", \"INTERNATIONAL TRADE ADMININSTRATION\"], \n",
    "\n",
    "}\n",
    "\n",
    "push(filepath, vector_id, metadata, embedding_func=pooler_embeding)\n",
    "\n",
    "\n",
    "\n",
    "\n",
    "\n",
    "\n",
    "\n",
    "\n"
   ]
  }
 ],
 "metadata": {
  "kernelspec": {
   "display_name": ".venv",
   "language": "python",
   "name": "python3"
  },
  "language_info": {
   "codemirror_mode": {
    "name": "ipython",
    "version": 3
   },
   "file_extension": ".py",
   "mimetype": "text/x-python",
   "name": "python",
   "nbconvert_exporter": "python",
   "pygments_lexer": "ipython3",
   "version": "3.12.4"
  }
 },
 "nbformat": 4,
 "nbformat_minor": 2
}
