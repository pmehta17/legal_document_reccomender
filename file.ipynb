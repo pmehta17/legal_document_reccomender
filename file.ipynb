{
 "cells": [
  {
   "cell_type": "code",
   "execution_count": 2,
   "metadata": {},
   "outputs": [
    {
     "name": "stdout",
     "output_type": "stream",
     "text": [
      "623494db-40e1-44ee-9890-26f24e1dd55b\n"
     ]
    }
   ],
   "source": [
    "# Load API key\n",
    "\n",
    "from dotenv import load_dotenv\n",
    "import os\n",
    "\n",
    "## Error Handling for API key retreival\n",
    "try: \n",
    "            \n",
    "    load_dotenv()\n",
    "\n",
    "    PC_KEY = os.getenv('PINECONE_API_KEY')\n",
    "    print(PC_KEY)\n",
    "\n",
    "    if not PC_KEY:\n",
    "        raise ValueError(\"PINECONE_API_KEY not found in .env file\")\n",
    "\n",
    "\n",
    "except Exception as e:\n",
    "    print(f\"Error: {e}\")\n",
    "\n"
   ]
  },
  {
   "cell_type": "code",
   "execution_count": 3,
   "metadata": {},
   "outputs": [
    {
     "name": "stderr",
     "output_type": "stream",
     "text": [
      "c:\\Projects\\legal_document_reccomender\\.venv\\Lib\\site-packages\\pinecone\\data\\index.py:1: TqdmWarning: IProgress not found. Please update jupyter and ipywidgets. See https://ipywidgets.readthedocs.io/en/stable/user_install.html\n",
      "  from tqdm.autonotebook import tqdm\n"
     ]
    }
   ],
   "source": [
    "from pinecone import Pinecone, ServerlessSpec\n",
    "\n",
    "pc = Pinecone(api_key=PC_KEY)"
   ]
  },
  {
   "cell_type": "code",
   "execution_count": 4,
   "metadata": {},
   "outputs": [
    {
     "name": "stdout",
     "output_type": "stream",
     "text": [
      "Indexes: ['idx-one', 'idx-two']\n",
      "Collections: []\n"
     ]
    }
   ],
   "source": [
    "## View current indexes in Pinecone \n",
    " \n",
    "print(f\"Indexes: {pc.list_indexes().names()}\")\n",
    "print(f\"Collections: {pc.list_collections().names()}\")"
   ]
  },
  {
   "cell_type": "code",
   "execution_count": 9,
   "metadata": {},
   "outputs": [
    {
     "name": "stdout",
     "output_type": "stream",
     "text": [
      "Error: Could not create index. Index with name \"idx-two\" already exists. \n"
     ]
    }
   ],
   "source": [
    "index_name = \"idx-two\"\n",
    "dim = 768\n",
    "\n",
    "## Embedding model: legal-bert-base-uncased (768 dimensions)\n",
    "# https://huggingface.co/nlpaueb/legal-bert-base-uncased\n",
    "\n",
    "if index_name not in pc.list_indexes().names():\n",
    "    pc.create_index(\n",
    "        name=index_name,\n",
    "        dimension=dim,\n",
    "        metric=\"cosine\",\n",
    "        spec=ServerlessSpec(\n",
    "            cloud='aws', \n",
    "            region='us-east-1'\n",
    "        ) \n",
    "    ) \n",
    "else: \n",
    "    print(f'Error: Could not create index. Index with name \"{index_name}\" already exists. ')"
   ]
  },
  {
   "cell_type": "code",
   "execution_count": 32,
   "metadata": {},
   "outputs": [],
   "source": [
    "# Load model directly\n",
    "from transformers import AutoTokenizer, AutoModelForPreTraining\n",
    "import torch \n",
    "\n",
    "\n",
    "tokenizer = AutoTokenizer.from_pretrained(\"nlpaueb/legal-bert-base-uncased\")\n",
    "model = AutoModelForPreTraining.from_pretrained(\"nlpaueb/legal-bert-base-uncased\")\n"
   ]
  },
  {
   "cell_type": "code",
   "execution_count": 6,
   "metadata": {},
   "outputs": [
    {
     "data": {
      "text/plain": [
       "BertForPreTraining(\n",
       "  (bert): BertModel(\n",
       "    (embeddings): BertEmbeddings(\n",
       "      (word_embeddings): Embedding(30522, 768, padding_idx=0)\n",
       "      (position_embeddings): Embedding(512, 768)\n",
       "      (token_type_embeddings): Embedding(2, 768)\n",
       "      (LayerNorm): LayerNorm((768,), eps=1e-12, elementwise_affine=True)\n",
       "      (dropout): Dropout(p=0.1, inplace=False)\n",
       "    )\n",
       "    (encoder): BertEncoder(\n",
       "      (layer): ModuleList(\n",
       "        (0-11): 12 x BertLayer(\n",
       "          (attention): BertAttention(\n",
       "            (self): BertSdpaSelfAttention(\n",
       "              (query): Linear(in_features=768, out_features=768, bias=True)\n",
       "              (key): Linear(in_features=768, out_features=768, bias=True)\n",
       "              (value): Linear(in_features=768, out_features=768, bias=True)\n",
       "              (dropout): Dropout(p=0.1, inplace=False)\n",
       "            )\n",
       "            (output): BertSelfOutput(\n",
       "              (dense): Linear(in_features=768, out_features=768, bias=True)\n",
       "              (LayerNorm): LayerNorm((768,), eps=1e-12, elementwise_affine=True)\n",
       "              (dropout): Dropout(p=0.1, inplace=False)\n",
       "            )\n",
       "          )\n",
       "          (intermediate): BertIntermediate(\n",
       "            (dense): Linear(in_features=768, out_features=3072, bias=True)\n",
       "            (intermediate_act_fn): GELUActivation()\n",
       "          )\n",
       "          (output): BertOutput(\n",
       "            (dense): Linear(in_features=3072, out_features=768, bias=True)\n",
       "            (LayerNorm): LayerNorm((768,), eps=1e-12, elementwise_affine=True)\n",
       "            (dropout): Dropout(p=0.1, inplace=False)\n",
       "          )\n",
       "        )\n",
       "      )\n",
       "    )\n",
       "    (pooler): BertPooler(\n",
       "      (dense): Linear(in_features=768, out_features=768, bias=True)\n",
       "      (activation): Tanh()\n",
       "    )\n",
       "  )\n",
       "  (cls): BertPreTrainingHeads(\n",
       "    (predictions): BertLMPredictionHead(\n",
       "      (transform): BertPredictionHeadTransform(\n",
       "        (dense): Linear(in_features=768, out_features=768, bias=True)\n",
       "        (transform_act_fn): GELUActivation()\n",
       "        (LayerNorm): LayerNorm((768,), eps=1e-12, elementwise_affine=True)\n",
       "      )\n",
       "      (decoder): Linear(in_features=768, out_features=30522, bias=True)\n",
       "    )\n",
       "    (seq_relationship): Linear(in_features=768, out_features=2, bias=True)\n",
       "  )\n",
       ")"
      ]
     },
     "execution_count": 6,
     "metadata": {},
     "output_type": "execute_result"
    }
   ],
   "source": [
    "model"
   ]
  },
  {
   "cell_type": "code",
   "execution_count": 34,
   "metadata": {},
   "outputs": [],
   "source": [
    "def embed(str):\n",
    "    inputs = tokenizer(str, return_tensors='pt', max_length=512, truncation=True, padding=True)\n",
    "    with torch.no_grad():\n",
    "        outputs = model(**inputs)\n",
    "    last_hidden_states = outputs.last_hidden_state\n",
    "    vector = last_hidden_state[:, 0, :].squeeze().numpy()\n",
    "    return vector.tolist() ## return as list (len 768)"
   ]
  },
  {
   "cell_type": "code",
   "execution_count": 35,
   "metadata": {},
   "outputs": [],
   "source": [
    "from utils import Utils\n",
    "\n",
    "def push(filepath, vector_id, metadata, dim = 768):\n",
    "    \n",
    "    file_text = Utils.textFileToString(filepath)\n",
    "    print(file_text[:200]) ## Printing first 200 chars to check file\n",
    "    vector = embed(file_text) ## Converting text to a vector\n",
    "\n",
    "    if len(vector) != dim:\n",
    "        raise Exception(f\"Vector dimension invalid.\")\n",
    "    \n",
    "\n",
    "    upsert_data = [(vector_id, vector, metadata)]\n",
    "\n",
    "    # Upsert the data to the Pinecone index\n",
    "\n",
    "    index = pc.Index(index_name)\n",
    "    index.upsert(upsert_data)\n",
    "\n"
   ]
  },
  {
   "cell_type": "code",
   "execution_count": 21,
   "metadata": {},
   "outputs": [
    {
     "data": {
      "text/plain": [
       "'idx-two'"
      ]
     },
     "execution_count": 21,
     "metadata": {},
     "output_type": "execute_result"
    }
   ],
   "source": [
    "index_name"
   ]
  },
  {
   "cell_type": "code",
   "execution_count": 36,
   "metadata": {},
   "outputs": [
    {
     "name": "stdout",
     "output_type": "stream",
     "text": [
      "DEPARTMENT JUSTICE Drug Enforcement Administration 21 CFR Part 1308 [ Docket . DEA–1362 ; A.G. Order . 5931–2024 ] Schedules Controlled Substances : Rescheduling Marijuana AGENCY : Drug Enforcement Ad\n"
     ]
    },
    {
     "ename": "AttributeError",
     "evalue": "'BertForPreTrainingOutput' object has no attribute 'last_hidden_state'",
     "output_type": "error",
     "traceback": [
      "\u001b[1;31m---------------------------------------------------------------------------\u001b[0m",
      "\u001b[1;31mAttributeError\u001b[0m                            Traceback (most recent call last)",
      "Cell \u001b[1;32mIn[36], line 20\u001b[0m\n\u001b[0;32m      6\u001b[0m vector_id \u001b[38;5;241m=\u001b[39m \u001b[38;5;124m\"\u001b[39m\u001b[38;5;124m2024-11137\u001b[39m\u001b[38;5;124m\"\u001b[39m\n\u001b[0;32m      8\u001b[0m metadata \u001b[38;5;241m=\u001b[39m {\n\u001b[0;32m      9\u001b[0m \n\u001b[0;32m     10\u001b[0m     \u001b[38;5;124m'\u001b[39m\u001b[38;5;124mpublication_date\u001b[39m\u001b[38;5;124m'\u001b[39m: \u001b[38;5;124m'\u001b[39m\u001b[38;5;124m2024-05-21\u001b[39m\u001b[38;5;124m'\u001b[39m,\n\u001b[1;32m   (...)\u001b[0m\n\u001b[0;32m     17\u001b[0m \n\u001b[0;32m     18\u001b[0m }\n\u001b[1;32m---> 20\u001b[0m \u001b[43mpush\u001b[49m\u001b[43m(\u001b[49m\u001b[43mfilepath\u001b[49m\u001b[43m,\u001b[49m\u001b[43m \u001b[49m\u001b[43mvector_id\u001b[49m\u001b[43m,\u001b[49m\u001b[43m \u001b[49m\u001b[43mmetadata\u001b[49m\u001b[43m)\u001b[49m\n",
      "Cell \u001b[1;32mIn[35], line 7\u001b[0m, in \u001b[0;36mpush\u001b[1;34m(filepath, vector_id, metadata, dim)\u001b[0m\n\u001b[0;32m      5\u001b[0m file_text \u001b[38;5;241m=\u001b[39m Utils\u001b[38;5;241m.\u001b[39mtextFileToString(filepath)\n\u001b[0;32m      6\u001b[0m \u001b[38;5;28mprint\u001b[39m(file_text[:\u001b[38;5;241m200\u001b[39m]) \u001b[38;5;66;03m## Printing first 200 chars to check file\u001b[39;00m\n\u001b[1;32m----> 7\u001b[0m vector \u001b[38;5;241m=\u001b[39m \u001b[43membed\u001b[49m\u001b[43m(\u001b[49m\u001b[43mfile_text\u001b[49m\u001b[43m)\u001b[49m \u001b[38;5;66;03m## Converting text to a vector\u001b[39;00m\n\u001b[0;32m      9\u001b[0m \u001b[38;5;28;01mif\u001b[39;00m \u001b[38;5;28mlen\u001b[39m(vector) \u001b[38;5;241m!=\u001b[39m dim:\n\u001b[0;32m     10\u001b[0m     \u001b[38;5;28;01mraise\u001b[39;00m \u001b[38;5;167;01mException\u001b[39;00m(\u001b[38;5;124mf\u001b[39m\u001b[38;5;124m\"\u001b[39m\u001b[38;5;124mVector dimension invalid.\u001b[39m\u001b[38;5;124m\"\u001b[39m)\n",
      "Cell \u001b[1;32mIn[34], line 5\u001b[0m, in \u001b[0;36membed\u001b[1;34m(str)\u001b[0m\n\u001b[0;32m      3\u001b[0m \u001b[38;5;28;01mwith\u001b[39;00m torch\u001b[38;5;241m.\u001b[39mno_grad():\n\u001b[0;32m      4\u001b[0m     outputs \u001b[38;5;241m=\u001b[39m model(\u001b[38;5;241m*\u001b[39m\u001b[38;5;241m*\u001b[39minputs)\n\u001b[1;32m----> 5\u001b[0m last_hidden_states \u001b[38;5;241m=\u001b[39m \u001b[43moutputs\u001b[49m\u001b[38;5;241;43m.\u001b[39;49m\u001b[43mlast_hidden_state\u001b[49m\n\u001b[0;32m      6\u001b[0m vector \u001b[38;5;241m=\u001b[39m last_hidden_state[:, \u001b[38;5;241m0\u001b[39m, :]\u001b[38;5;241m.\u001b[39msqueeze()\u001b[38;5;241m.\u001b[39mnumpy()\n\u001b[0;32m      7\u001b[0m \u001b[38;5;28;01mreturn\u001b[39;00m vector\u001b[38;5;241m.\u001b[39mtolist()\n",
      "\u001b[1;31mAttributeError\u001b[0m: 'BertForPreTrainingOutput' object has no attribute 'last_hidden_state'"
     ]
    }
   ],
   "source": [
    "## Vector 1\n",
    "# File Description: Schedules of Controlled Substances: Rescheduling of Marijuana\n",
    "\n",
    "\n",
    "filepath = \"cleaned_texts\\\\2024-11137.txt\"\n",
    "vector_id = \"2024-11137\"\n",
    "\n",
    "metadata = {\n",
    "\n",
    "    'publication_date': '2024-05-21',\n",
    "    'document_type': 'Proposed Rule', \n",
    "    'document_citation': \"89 FR 44597\",\n",
    "    'page_start': 44597,\n",
    "    'page_end':44622,\n",
    "    'cfr': \"21 CFR 1308\", \n",
    "    'document_number': \"2024-11137\", \n",
    "\n",
    "}\n",
    "\n",
    "push(filepath, vector_id, metadata)\n",
    "\n"
   ]
  },
  {
   "cell_type": "code",
   "execution_count": null,
   "metadata": {},
   "outputs": [],
   "source": [
    "()"
   ]
  }
 ],
 "metadata": {
  "kernelspec": {
   "display_name": ".venv",
   "language": "python",
   "name": "python3"
  },
  "language_info": {
   "codemirror_mode": {
    "name": "ipython",
    "version": 3
   },
   "file_extension": ".py",
   "mimetype": "text/x-python",
   "name": "python",
   "nbconvert_exporter": "python",
   "pygments_lexer": "ipython3",
   "version": "3.12.4"
  }
 },
 "nbformat": 4,
 "nbformat_minor": 2
}
